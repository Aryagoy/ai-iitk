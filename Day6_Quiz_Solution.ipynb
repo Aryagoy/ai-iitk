{
  "nbformat": 4,
  "nbformat_minor": 0,
  "metadata": {
    "colab": {
      "name": "Day6_Quiz_Solution.ipynb",
      "version": "0.3.2",
      "provenance": [],
      "collapsed_sections": [],
      "include_colab_link": true
    },
    "language_info": {
      "codemirror_mode": {
        "name": "ipython",
        "version": 3
      },
      "file_extension": ".py",
      "mimetype": "text/x-python",
      "name": "python",
      "nbconvert_exporter": "python",
      "pygments_lexer": "ipython3",
      "version": "3.6.8"
    },
    "kernelspec": {
      "display_name": "Python 3",
      "language": "python",
      "name": "python3"
    }
  },
  "cells": [
    {
      "cell_type": "markdown",
      "metadata": {
        "id": "view-in-github",
        "colab_type": "text"
      },
      "source": [
        "<a href=\"https://colab.research.google.com/github/Aryagoy/ai-iitk/blob/master/Day6_Quiz_Solution.ipynb\" target=\"_parent\"><img src=\"https://colab.research.google.com/assets/colab-badge.svg\" alt=\"Open In Colab\"/></a>"
      ]
    },
    {
      "cell_type": "markdown",
      "metadata": {
        "id": "Wu99OZZgwlJC",
        "colab_type": "text"
      },
      "source": [
        "- Build a linear models of degree 2 to estimate $v_l$ <br>\n",
        "- Use 4 samples of train data for training and  <br>\n",
        "- Use gradient descent method for finding the weights. <br>\n",
        "- Update the weights for each sample. <br>\n",
        "- Do weight updates for 100 epochs. (use train data only) <br>\n",
        "- Report the values predicted on the 3 samples of test data in the variable Y_pred_test (shape is (3,))\n",
        "\n",
        "- Hint : Take inputs in units of metres (0.6, 0.5, 0.3, 0.2)\n"
      ]
    },
    {
      "cell_type": "markdown",
      "metadata": {
        "id": "YKtBEzZqwlJD",
        "colab_type": "text"
      },
      "source": [
        "### Train Data\n",
        "| Sonar S | $v_l$   |$v_r$|\n",
        "|---------|---------|-----|\n",
        "|60cm |10cm/sec |10cm/sec |\n",
        "| 50cm |9cm/sec| 9cm/sec |\n",
        "| 30cm | 7cm/sec | 4cm/sec |\n",
        "|20cm | 4cm/sec | 0cm/sec|"
      ]
    },
    {
      "cell_type": "markdown",
      "metadata": {
        "id": "fhVFPLECwlJE",
        "colab_type": "text"
      },
      "source": [
        "### Test Data\n",
        "| Sonar S | $v_l$   |$v_r$|\n",
        "|---------|---------|-----|\n",
        "|40cm |8cm/sec |8cm/sec |\n",
        "| 35cm |7.5cm/sec| 6cm/sec |\n",
        "| 25cm | 6cm/sec | 2cm/sec |"
      ]
    },
    {
      "cell_type": "code",
      "metadata": {
        "id": "4L4holR-wlJF",
        "colab_type": "code",
        "colab": {}
      },
      "source": [
        "import numpy as np\n",
        "\n",
        "X_train = np.array([0.6, 0.5, 0.3, 0.2])\n",
        "X_test = np.array([0.4, 0.35, 0.25])\n",
        "\n",
        "Y_train = np.array([10, 9, 7, 4])\n",
        "Y_test = np.array([8, 7.5, 6])"
      ],
      "execution_count": 0,
      "outputs": []
    },
    {
      "cell_type": "code",
      "metadata": {
        "id": "iku5GZ9GxNmn",
        "colab_type": "code",
        "colab": {}
      },
      "source": [
        "A_train = np.hstack([X_train.reshape(-1, 1), (X_train**2).reshape(-1, 1), np.ones((X_train.shape[0], 1))])\n",
        "A_test = np.hstack([X_test.reshape(-1, 1), (X_test**2).reshape(-1, 1), np.ones((3, 1))])"
      ],
      "execution_count": 0,
      "outputs": []
    },
    {
      "cell_type": "code",
      "metadata": {
        "id": "9J9ZtKg1x9wt",
        "colab_type": "code",
        "outputId": "ab70d62e-25e0-4415-d65d-ddfa9c056e7d",
        "colab": {
          "base_uri": "https://localhost:8080/",
          "height": 86
        }
      },
      "source": [
        "print(A_train)"
      ],
      "execution_count": 0,
      "outputs": [
        {
          "output_type": "stream",
          "text": [
            "[[0.6  0.36 1.  ]\n",
            " [0.5  0.25 1.  ]\n",
            " [0.3  0.09 1.  ]\n",
            " [0.2  0.04 1.  ]]\n"
          ],
          "name": "stdout"
        }
      ]
    },
    {
      "cell_type": "code",
      "metadata": {
        "id": "0R8-bs8rxm4v",
        "colab_type": "code",
        "outputId": "ef4c16e4-79be-48b2-87d7-5e03b93edc25",
        "colab": {
          "base_uri": "https://localhost:8080/",
          "height": 68
        }
      },
      "source": [
        "## Initialize w with zeros\n",
        "w = np.zeros((A_train.shape[1], 1))\n",
        "\n",
        "eta = 0.05\n",
        "epochs = 100\n",
        "for epoch in range(epochs):\n",
        "  for i in range(A_train.shape[0]):\n",
        "    A_i = A_train[i].reshape(1, -1)\n",
        "    y = A_i.dot(w)\n",
        "    yd = Y_train[i]\n",
        "    e = yd - y\n",
        "    w = w + eta*A_i.T*e\n",
        "print(w)"
      ],
      "execution_count": 0,
      "outputs": [
        {
          "output_type": "stream",
          "text": [
            "[[5.78990558]\n",
            " [3.8730993 ]\n",
            " [4.47442095]]\n"
          ],
          "name": "stdout"
        }
      ]
    },
    {
      "cell_type": "code",
      "metadata": {
        "id": "xQAr5tk_yDHw",
        "colab_type": "code",
        "outputId": "e729dc9d-179e-407f-87e7-d53bb25d7a51",
        "colab": {
          "base_uri": "https://localhost:8080/",
          "height": 51
        }
      },
      "source": [
        "### Testing\n",
        "Y_pred_test = A_test.dot(w)\n",
        "print(Y_pred_test.flatten(), '\\n', Y_test)"
      ],
      "execution_count": 0,
      "outputs": [
        {
          "output_type": "stream",
          "text": [
            "[7.41007907 6.97534257 6.16396606] \n",
            " [8.  7.5 6. ]\n"
          ],
          "name": "stdout"
        }
      ]
    },
    {
      "cell_type": "code",
      "metadata": {
        "id": "G3Yug5aEy9ea",
        "colab_type": "code",
        "colab": {}
      },
      "source": [
        ""
      ],
      "execution_count": 0,
      "outputs": []
    }
  ]
}